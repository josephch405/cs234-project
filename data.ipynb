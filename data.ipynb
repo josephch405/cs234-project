{
 "cells": [
  {
   "cell_type": "code",
   "execution_count": 5,
   "metadata": {},
   "outputs": [],
   "source": [
    "import csv\n",
    "import numpy as np\n",
    "\n",
    "with open(\"data/warfarin.csv\", encoding='utf-8-sig') as f:\n",
    "    reader = csv.reader(f)\n",
    "    all_d = np.array(list(reader))[:-1, :-3]"
   ]
  },
  {
   "cell_type": "code",
   "execution_count": 15,
   "metadata": {},
   "outputs": [
    {
     "data": {
      "text/plain": [
       "[(0, 'PharmGKB Subject ID', 'PA135312261'),\n",
       " (1, 'Gender', 'male'),\n",
       " (2, 'Race', 'White'),\n",
       " (3, 'Ethnicity', 'not Hispanic or Latino'),\n",
       " (4, 'Age', '60 - 69'),\n",
       " (5, 'Height (cm)', '193.04'),\n",
       " (6, 'Weight (kg)', '115.7'),\n",
       " (7, 'Indication for Warfarin Treatment', '7'),\n",
       " (8, 'Comorbidities', 'No Cancer'),\n",
       " (9, 'Diabetes', 'NA'),\n",
       " (10, 'Congestive Heart Failure and/or Cardiomyopathy', 'NA'),\n",
       " (11, 'Valve Replacement', 'NA'),\n",
       " (12, 'Medications', 'aspirin; not simvastatin; not amiodarone'),\n",
       " (13, 'Aspirin', '1'),\n",
       " (14, 'Acetaminophen or Paracetamol (Tylenol)', 'NA'),\n",
       " (15, 'Was Dose of Acetaminophen or Paracetamol (Tylenol) >1300mg/day', 'NA'),\n",
       " (16, 'Simvastatin (Zocor)', '0'),\n",
       " (17, 'Atorvastatin (Lipitor)', 'NA'),\n",
       " (18, 'Fluvastatin (Lescol)', 'NA'),\n",
       " (19, 'Lovastatin (Mevacor)', 'NA'),\n",
       " (20, 'Pravastatin (Pravachol)', 'NA'),\n",
       " (21, 'Rosuvastatin (Crestor)', 'NA'),\n",
       " (22, 'Cerivastatin (Baycol)', 'NA'),\n",
       " (23, 'Amiodarone (Cordarone)', '0'),\n",
       " (24, 'Carbamazepine (Tegretol)', 'NA'),\n",
       " (25, 'Phenytoin (Dilantin)', 'NA'),\n",
       " (26, 'Rifampin or Rifampicin', 'NA'),\n",
       " (27, 'Sulfonamide Antibiotics', 'NA'),\n",
       " (28, 'Macrolide Antibiotics', 'NA'),\n",
       " (29, 'Anti-fungal Azoles', 'NA'),\n",
       " (30, 'Herbal Medications, Vitamins, Supplements', 'NA'),\n",
       " (31, 'Target INR', '2.5'),\n",
       " (32, 'Estimated Target INR Range Based on Indication', 'NA'),\n",
       " (33, 'Subject Reached Stable Dose of Warfarin', '1'),\n",
       " (34, 'Therapeutic Dose of Warfarin', '49.00'),\n",
       " (35, 'INR on Reported Therapeutic Dose of Warfarin', '2.60'),\n",
       " (36, 'Current Smoker', '0'),\n",
       " (37, 'Cyp2C9 genotypes', '*1/*1'),\n",
       " (38, 'Genotyped QC Cyp2C9*2', ''),\n",
       " (39, 'Genotyped QC Cyp2C9*3', ''),\n",
       " (40, 'Combined QC CYP2C9', ''),\n",
       " (41,\n",
       "  'VKORC1 genotype: -1639 G>A (3673); chr16:31015190; rs9923231; C/T',\n",
       "  'A/G'),\n",
       " (42,\n",
       "  'VKORC1 QC genotype: -1639 G>A (3673); chr16:31015190; rs9923231; C/T',\n",
       "  ''),\n",
       " (43, 'VKORC1 genotype: 497T>G (5808); chr16:31013055; rs2884737; A/C', 'G/T'),\n",
       " (44, 'VKORC1 QC genotype: 497T>G (5808); chr16:31013055; rs2884737; A/C', ''),\n",
       " (45, 'VKORC1 genotype: 1173 C>T(6484); chr16:31012379; rs9934438; A/G', 'NA'),\n",
       " (46,\n",
       "  'VKORC1 QC genotype: 1173 C>T(6484); chr16:31012379; rs9934438; A/G',\n",
       "  ''),\n",
       " (47,\n",
       "  'VKORC1 genotype: 1542G>C (6853); chr16:31012010; rs8050894; C/G',\n",
       "  'C/G'),\n",
       " (48,\n",
       "  'VKORC1 QC genotype: 1542G>C (6853); chr16:31012010; rs8050894; C/G',\n",
       "  ''),\n",
       " (49, 'VKORC1 genotype: 3730 G>A (9041); chr16:31009822; rs7294;  A/G', 'A/G'),\n",
       " (50, 'VKORC1 QC genotype: 3730 G>A (9041); chr16:31009822; rs7294;  A/G', ''),\n",
       " (51, 'VKORC1 genotype: 2255C>T (7566); chr16:31011297; rs2359612; A/G', 'NA'),\n",
       " (52,\n",
       "  'VKORC1 QC genotype: 2255C>T (7566); chr16:31011297; rs2359612; A/G',\n",
       "  ''),\n",
       " (53,\n",
       "  'VKORC1 genotype: -4451 C>A (861); Chr16:31018002; rs17880887; A/C',\n",
       "  'NA'),\n",
       " (54,\n",
       "  'VKORC1 QC genotype: -4451 C>A (861); Chr16:31018002; rs17880887; A/C',\n",
       "  ''),\n",
       " (55, 'CYP2C9 consensus', '*1/*1'),\n",
       " (56, 'VKORC1 -1639 consensus', 'A/G'),\n",
       " (57, 'VKORC1 497 consensus', 'G/T'),\n",
       " (58, 'VKORC1 1173 consensus', 'NA'),\n",
       " (59, 'VKORC1 1542 consensus', 'C/G'),\n",
       " (60, 'VKORC1 3730 consensus', 'A/G'),\n",
       " (61, 'VKORC1 2255 consensus', 'NA'),\n",
       " (62, 'VKORC1 -4451 consensus', 'NA')]"
      ]
     },
     "execution_count": 15,
     "metadata": {},
     "output_type": "execute_result"
    }
   ],
   "source": [
    "list(zip(range(len(all_d[0])),all_d[0],all_d[1]))"
   ]
  },
  {
   "cell_type": "code",
   "execution_count": 107,
   "metadata": {},
   "outputs": [],
   "source": [
    "# Removing all examples without target warfarin\n",
    "all_d = all_d[all_d[:, 34] != \"NA\"]"
   ]
  },
  {
   "cell_type": "code",
   "execution_count": 108,
   "metadata": {},
   "outputs": [],
   "source": [
    "numerical_feature_indices = [5, 6]\n",
    "numerical_features = all_d[1:, numerical_feature_indices].copy()\n",
    "numerical_features[(numerical_features == \"NA\") | (numerical_features == \"\")] = \"0\"\n",
    "\n",
    "numerical_features = numerical_features.astype(np.float)"
   ]
  },
  {
   "cell_type": "code",
   "execution_count": 109,
   "metadata": {},
   "outputs": [],
   "source": [
    "categorical_feature_indices = list(range(63))\n",
    "\n",
    "# Mostly features that indicate results\n",
    "bad_features_indices = [0, 33, 34, 35]\n",
    "\n",
    "#\n",
    "unhelpful_features_indices = [8, 12, 30]\n",
    "\n",
    "for i in numerical_feature_indices + bad_features_indices + unhelpful_features_indices:\n",
    "    categorical_feature_indices.remove(i)\n",
    "categorical_features = all_d[1:, categorical_feature_indices].copy()\n",
    "\n",
    "from sklearn.preprocessing import OneHotEncoder\n",
    "encoder = OneHotEncoder()\n",
    "fitted_categorical_features = encoder.fit_transform(categorical_features).toarray()"
   ]
  },
  {
   "cell_type": "code",
   "execution_count": 111,
   "metadata": {
    "scrolled": true
   },
   "outputs": [],
   "source": [
    "X = np.append(numerical_features, fitted_categorical_features, axis=1)\n",
    "Y = all_d[1:, 34].copy().astype(np.float)"
   ]
  },
  {
   "cell_type": "code",
   "execution_count": 122,
   "metadata": {},
   "outputs": [],
   "source": [
    "low = Y < 21\n",
    "medium = (Y >= 21) & (Y <= 49)\n",
    "high = Y > 49\n",
    "Y_categorical = np.stack([low, medium, high], axis=1)"
   ]
  },
  {
   "cell_type": "code",
   "execution_count": 123,
   "metadata": {},
   "outputs": [
    {
     "data": {
      "text/plain": [
       "(5528, 3)"
      ]
     },
     "execution_count": 123,
     "metadata": {},
     "output_type": "execute_result"
    }
   ],
   "source": [
    "Y_categorical.shape"
   ]
  },
  {
   "cell_type": "code",
   "execution_count": 86,
   "metadata": {},
   "outputs": [
    {
     "data": {
      "text/plain": [
       "(5700, 286)"
      ]
     },
     "execution_count": 86,
     "metadata": {},
     "output_type": "execute_result"
    }
   ],
   "source": []
  },
  {
   "cell_type": "code",
   "execution_count": 74,
   "metadata": {},
   "outputs": [
    {
     "data": {
      "text/plain": [
       "[array(['NA', 'female', 'male'], dtype='<U987'),\n",
       " array(['Asian', 'Black or African American', 'Unknown', 'White'],\n",
       "       dtype='<U987'),\n",
       " array(['Hispanic or Latino', 'Unknown', 'not Hispanic or Latino'],\n",
       "       dtype='<U987'),\n",
       " array(['10 - 19', '20 - 29', '30 - 39', '40 - 49', '50 - 59', '60 - 69',\n",
       "        '70 - 79', '80 - 89', '90+', 'NA'], dtype='<U987'),\n",
       " array(['', '1', '1 or 2', '1,2', '1; 2', '1; 2; 3', '1; 2; 5; 8',\n",
       "        '1; 2; 8', '1; 3', '1; 3; 4; 8', '1; 3; 8', '1; 6', '1; 8', '1;2',\n",
       "        '2', '2; 3', '2; 3; 8', '2; 6', '2; 8', '3', '3; 2', '3; 4',\n",
       "        '3; 4; 6', '3; 4; 6; 7; 8', '3; 4; 6; 8', '3; 4; 7', '3; 4; 7; 8',\n",
       "        '3; 4; 8', '3; 5', '3; 6', '3; 6; 7', '3; 6; 8', '3; 7', '3; 7; 8',\n",
       "        '3; 8', '4', '4; 3', '4; 5', '4; 6', '4; 6; 8', '4; 7', '4; 7; 8',\n",
       "        '4; 8', '4;6', '5', '5; 6', '5; 8', '6', '6; 5', '6; 8', '7',\n",
       "        '7; 8', '8', 'NA'], dtype='<U987'),\n",
       " array(['', '0', '1', 'NA'], dtype='<U987'),\n",
       " array(['', '0', '1', 'NA'], dtype='<U987'),\n",
       " array(['', '0', '1', 'NA'], dtype='<U987'),\n",
       " array(['0', '1', 'NA'], dtype='<U987'),\n",
       " array(['0', '1', 'NA'], dtype='<U987'),\n",
       " array(['0', '1', 'NA'], dtype='<U987'),\n",
       " array(['0', '1', 'NA'], dtype='<U987'),\n",
       " array(['0', '1', 'NA'], dtype='<U987'),\n",
       " array(['0', '1', 'NA'], dtype='<U987'),\n",
       " array(['0', '1', 'NA'], dtype='<U987'),\n",
       " array(['0', '1', 'NA'], dtype='<U987'),\n",
       " array(['0', '1', 'NA'], dtype='<U987'),\n",
       " array(['0', 'NA'], dtype='<U987'),\n",
       " array(['0', '1', 'NA'], dtype='<U987'),\n",
       " array(['0', '1', 'NA'], dtype='<U987'),\n",
       " array(['0', '1', 'NA'], dtype='<U987'),\n",
       " array(['0', '1', 'NA'], dtype='<U987'),\n",
       " array(['', '0', '1', 'NA'], dtype='<U987'),\n",
       " array(['0', '1', 'NA'], dtype='<U987'),\n",
       " array(['0', '1', 'NA'], dtype='<U987'),\n",
       " array(['1.3', '1.75', '2', '2.2', '2.3', '2.5', '2.6', '2.7', '2.8', '3',\n",
       "        '3.25', '3.5', 'NA'], dtype='<U987'),\n",
       " array(['1.7-2.8', '1.7-3.3', '2-3', '2-3.5', '2.5-3.5', '3-4', '3.0-4.0',\n",
       "        'NA'], dtype='<U987'),\n",
       " array(['0', '1', 'NA'], dtype='<U987'),\n",
       " array(['*1/*1', '*1/*11', '*1/*13', '*1/*14', '*1/*2', '*1/*3', '*1/*5',\n",
       "        '*1/*6', '*2/*2', '*2/*3', '*3/*3', 'NA'], dtype='<U987'),\n",
       " array(['', '*1/*1', '*1/*2', '*2/*2'], dtype='<U987'),\n",
       " array(['', '*1/*1', '*1/*3', '*3/*3'], dtype='<U987'),\n",
       " array(['', '*1/*1', '*1/*2', '*1/*3', '*2/*2', '*2/*3', '*3/*3'],\n",
       "       dtype='<U987'),\n",
       " array(['A/A', 'A/G', 'G/G', 'NA'], dtype='<U987'),\n",
       " array(['', 'A/A', 'A/G', 'G/G'], dtype='<U987'),\n",
       " array(['G/G', 'G/T', 'NA', 'T/T'], dtype='<U987'),\n",
       " array(['', 'G/G', 'G/T', 'T/T'], dtype='<U987'),\n",
       " array(['', 'C/C', 'C/T', 'NA', 'T/T'], dtype='<U987'),\n",
       " array(['', 'C/C', 'C/T', 'T/T'], dtype='<U987'),\n",
       " array(['C/C', 'C/G', 'G/G', 'NA'], dtype='<U987'),\n",
       " array(['', 'C/C', 'C/G', 'G/G'], dtype='<U987'),\n",
       " array(['A/A', 'A/G', 'G/G', 'NA'], dtype='<U987'),\n",
       " array(['', 'A/A', 'A/G', 'G/G'], dtype='<U987'),\n",
       " array(['C/C', 'C/T', 'NA', 'T/T'], dtype='<U987'),\n",
       " array(['', 'C/C', 'C/T', 'T/T'], dtype='<U987'),\n",
       " array(['A/A', 'A/C', 'C/C', 'NA'], dtype='<U987'),\n",
       " array(['', 'A/A', 'A/C', 'C/C', 'NA'], dtype='<U987'),\n",
       " array(['*1/*1', '*1/*11', '*1/*13', '*1/*14', '*1/*2', '*1/*3', '*1/*5',\n",
       "        '*1/*6', '*2/*2', '*2/*3', '*3/*3', 'NA'], dtype='<U987'),\n",
       " array(['A/A', 'A/G', 'G/G', 'NA'], dtype='<U987'),\n",
       " array(['G/G', 'G/T', 'NA', 'T/T'], dtype='<U987'),\n",
       " array(['C/C', 'C/T', 'NA', 'T/T'], dtype='<U987'),\n",
       " array(['C/C', 'C/G', 'G/G', 'NA'], dtype='<U987'),\n",
       " array(['A/A', 'A/G', 'G/G', 'NA'], dtype='<U987'),\n",
       " array(['C/C', 'C/T', 'NA', 'T/T'], dtype='<U987'),\n",
       " array(['A/A', 'A/C', 'C/C', 'NA'], dtype='<U987')]"
      ]
     },
     "execution_count": 74,
     "metadata": {},
     "output_type": "execute_result"
    }
   ],
   "source": [
    "encoder.categories_"
   ]
  },
  {
   "cell_type": "code",
   "execution_count": null,
   "metadata": {},
   "outputs": [],
   "source": []
  }
 ],
 "metadata": {
  "kernelspec": {
   "display_name": "Python 3",
   "language": "python",
   "name": "python3"
  },
  "language_info": {
   "codemirror_mode": {
    "name": "ipython",
    "version": 3
   },
   "file_extension": ".py",
   "mimetype": "text/x-python",
   "name": "python",
   "nbconvert_exporter": "python",
   "pygments_lexer": "ipython3",
   "version": "3.7.4"
  }
 },
 "nbformat": 4,
 "nbformat_minor": 4
}
